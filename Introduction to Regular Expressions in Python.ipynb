{
 "cells": [
  {
   "cell_type": "markdown",
   "id": "0cdcd6f4",
   "metadata": {},
   "source": [
    "# Introduction to Regular Expressions in Python\n",
    "\n",
    "## What are Regular Expressions?\n"
   ]
  },
  {
   "cell_type": "markdown",
   "id": "c2f2df5b",
   "metadata": {},
   "source": [
    "Regular expressions, or regex for short, are a sequence of characters that define a pattern to search for in a string. Some examples of what they look like are: `^\\w{5}\\s\\w{5}$`, `[xyz]{2}`, and `\\d{4}`.\n",
    "\n",
    "Each of these regular expressions are composed of smaller ones that have a specific task to search for a particular pattern in a string. When you combine multiple regular expressions together, you form a more complex regular expression that can search for multiple patterns at once. \n",
    "\n",
    "## How can regex be used?\n",
    "\n",
    "Regex can be used when you are working with a single string or multiple strings that may show up in a list/dictionary. It’s a very useful tool for Data Scientists because of its capabilities of searching through large text data, lists/dictionaries of strings, or even tables that contain strings with relevant data. When you are dealing with many strings, a large text file, or even just one really long string and you need to find where exactly a pattern lies and potentially perform other operations on those areas, regex comes in handy.\n",
    "\n",
    "### The regex methods\n",
    "\n",
    "The first step in using regex is importing the module called `re`.\n",
    "\n",
    "The `re` methods are:\n",
    "- `findall()` $\\to$ searches a string for ALL instances of a pattern,\n",
    "- `search()` $\\to$ searches the string for the FIRST instance of a pattern,\n",
    "- `match()` $\\to$ searches the BEGINNING of a string for the instance of a pattern ,\n",
    "- `sub()` $\\to$ will replace all (or a specified number of) the substrings that match a pattern,\n",
    "- `split()` $\\to$ will split the string at each instance of a pattern (or a specified number of instances),\n",
    "\n",
    "Note: you will call these methods by preceding them with re. (`re.findall()`, `re.sub()`, etc.)\n",
    "\n",
    "### The arguments\n",
    "\n",
    "Suppose you have a string called `name` and a pattern, `regex`. Then the methods above would look like:\n",
    "\n",
    "- `findall(pattern=regex, string=name, flags (optional))`,\n",
    "- `search(pattern=regex, string=name, flags (optional))`,\n",
    "- `match(pattern=regex, string=name, flags (optional))`,\n",
    "\n",
    "where the argument, `flags`, is simply an optional specification that affects the way in which the pattern is searched for in the string. \n",
    "\n",
    "The other methods would look like:\n",
    "\n",
    "- `sub(pattern=regex, repl=replacement, string=name, count (int, optional), flags (optional))`\n",
    "- `split(pattern=regex, string=name, maxsplit (int, optional), flags (optional))`\n",
    "\n",
    "Where `replacement` is a string that will replace the substring in name that matches the regex pattern, `count` is simply the number of replacements specified, and `maxsplit` is the number of splits that will occur at the location of the regex pattern in the name string."
   ]
  },
  {
   "cell_type": "code",
   "execution_count": 32,
   "id": "706f1c13",
   "metadata": {},
   "outputs": [],
   "source": [
    "import re"
   ]
  },
  {
   "cell_type": "markdown",
   "id": "009ad397",
   "metadata": {},
   "source": [
    "## Let's write some regex!\n",
    "\n",
    "In order to write accurate regex, we must learn the descriptions of each singular regular expression and their functions. Refer to the table below:"
   ]
  },
  {
   "cell_type": "markdown",
   "id": "a7f91750",
   "metadata": {},
   "source": [
    "| Regular Expression | Description | Example |\n",
    "| --- | --- | --- |\n",
    "| [] | match any characters contained within the brackets | [abc] |\n",
    "| [^...] | match any one character not contained in the brackets | [^a] |\n",
    "| - | match a range of characters/digits | [0-9] | \n",
    "| . | match any single character except a new line | a. |\n",
    "| \\d | match any digit | a\\d (same as a[0-9]) |\n",
    "| \\w | match any word | a\\w | \n",
    "| [A-z] | match any letter | a[A-z] | \n",
    "| ? | 0 or 1 instance of character | a? |\n",
    "| + | 1 or more instances of character | a+ | \n",
    "| * | 0 or more instances of character | a* | \n",
    "| ^ | start of a string | ^a | \n",
    "| \\$ | end of a string | a$ | "
   ]
  },
  {
   "cell_type": "markdown",
   "id": "1300f29c",
   "metadata": {},
   "source": [
    "### Let's try some examples\n",
    "\n",
    "1. We define: `string` = `“I23like45to2drink6coffee90every8morning!”`. Suppose we want to find all instances of 2 consecutive digits in this string. We have two options: use `[0-9]` or `\\d`. "
   ]
  },
  {
   "cell_type": "code",
   "execution_count": 33,
   "id": "0397134e",
   "metadata": {},
   "outputs": [
    {
     "name": "stdout",
     "output_type": "stream",
     "text": [
      "['23', '45', '90']\n",
      "['23', '45', '90']\n"
     ]
    }
   ],
   "source": [
    "string = 'I23like45to2drink6coffee90every8morning'\n",
    "regex = '[0-9]{2}'\n",
    "result = re.findall(pattern=regex, string=string)\n",
    "print(result)\n",
    "\n",
    "regex='\\d{2}'\n",
    "result = re.findall(pattern=regex, string=string)\n",
    "print(result)"
   ]
  },
  {
   "cell_type": "markdown",
   "id": "7a8999db",
   "metadata": {},
   "source": [
    "Both methods work the same way. \n",
    "\n",
    "2. Using the same string, suppose we want to find all instances of characters that are not digits. We can use a few methods:"
   ]
  },
  {
   "cell_type": "code",
   "execution_count": 34,
   "id": "5193e5f6",
   "metadata": {},
   "outputs": [
    {
     "name": "stdout",
     "output_type": "stream",
     "text": [
      "['I', 'l', 'i', 'k', 'e', 't', 'o', 'd', 'r', 'i', 'n', 'k', 'c', 'o', 'f', 'f', 'e', 'e', 'e', 'v', 'e', 'r', 'y', 'm', 'o', 'r', 'n', 'i', 'n', 'g', '!'] \n",
      "\n",
      "['l', 'i', 'k', 'e', 't', 'o', 'd', 'r', 'i', 'n', 'k', 'c', 'o', 'f', 'f', 'e', 'e', 'e', 'v', 'e', 'r', 'y', 'm', 'o', 'r', 'n', 'i', 'n', 'g'] \n",
      "\n",
      "['I', 'l', 'i', 'k', 'e', 't', 'o', 'd', 'r', 'i', 'n', 'k', 'c', 'o', 'f', 'f', 'e', 'e', 'e', 'v', 'e', 'r', 'y', 'm', 'o', 'r', 'n', 'i', 'n', 'g'] \n",
      "\n",
      "['I', 'l', 'i', 'k', 'e', 't', 'o', 'd', 'r', 'i', 'n', 'k', 'c', 'o', 'f', 'f', 'e', 'e', 'e', 'v', 'e', 'r', 'y', 'm', 'o', 'r', 'n', 'i', 'n', 'g'] \n",
      "\n"
     ]
    }
   ],
   "source": [
    "string = 'I23like45to2drink6coffee90every8morning!'\n",
    "regex = '[^\\d]'\n",
    "result = re.findall(pattern=regex, string=string)\n",
    "print(result, '\\n') \n",
    "\n",
    "regex = '[a-z]'\n",
    "result = re.findall(pattern=regex, string=string)\n",
    "print(result, '\\n') # notice that this ignores the uppercase I at the beginning \n",
    "\n",
    "regex = '[a-z]'\n",
    "result = re.findall(pattern=regex, string=string, flags=re.IGNORECASE)\n",
    "print(result, '\\n') # includes the \"I\"\n",
    "\n",
    "regex = '[A-z]'\n",
    "result = re.findall(pattern=regex, string=string)\n",
    "print(result, '\\n') # we can also use [A-z], which considers both uppercase and lowercase"
   ]
  },
  {
   "cell_type": "markdown",
   "id": "97f049f0",
   "metadata": {},
   "source": [
    "Note: `\\d` and `[A-z]` consider both letter cases, but `[a-z]` only considers lowercase. You can bypass this by including a flag to ignore the case, but keep in mind that there is an easier method without the flags.\n",
    "\n",
    "3. Now, we define a list of strings and we want to find which ones start with a number."
   ]
  },
  {
   "cell_type": "code",
   "execution_count": 35,
   "id": "93ed1a2d",
   "metadata": {},
   "outputs": [
    {
     "name": "stdout",
     "output_type": "stream",
     "text": [
      "The following string is a match: 123apple\n",
      "<re.Match object; span=(0, 3), match='123'> \n",
      "\n",
      "The following string is a match: 2orange3\n",
      "<re.Match object; span=(0, 1), match='2'> \n",
      "\n",
      "The following string is a match: 78mango3\n",
      "<re.Match object; span=(0, 2), match='78'> \n",
      "\n"
     ]
    }
   ],
   "source": [
    "strings = [\n",
    "    '123apple', \n",
    "    'pear456', \n",
    "    '2orange3', \n",
    "    'banana45',\n",
    "    '78mango3', \n",
    "    ''\n",
    "]\n",
    "\n",
    "regex = '^\\d+'\n",
    "for string in strings:\n",
    "    result = re.search(regex, string)\n",
    "    if result:\n",
    "        print(\"The following string is a match:\", string)\n",
    "        print(result, '\\n')"
   ]
  },
  {
   "cell_type": "markdown",
   "id": "ed4f0896",
   "metadata": {},
   "source": [
    "We use `^` to show that the pattern STARTS with `\\d+`, 1 digit or more. \n",
    "\n",
    "What about the strings that end with a number?"
   ]
  },
  {
   "cell_type": "code",
   "execution_count": 36,
   "id": "33e58332",
   "metadata": {},
   "outputs": [
    {
     "name": "stdout",
     "output_type": "stream",
     "text": [
      "The following string is a match: pear456\n",
      "<re.Match object; span=(4, 7), match='456'> \n",
      "\n",
      "The following string is a match: 2orange3\n",
      "<re.Match object; span=(7, 8), match='3'> \n",
      "\n",
      "The following string is a match: banana45\n",
      "<re.Match object; span=(6, 8), match='45'> \n",
      "\n",
      "The following string is a match: 78mango3\n",
      "<re.Match object; span=(7, 8), match='3'> \n",
      "\n"
     ]
    }
   ],
   "source": [
    "strings = [\n",
    "    '123apple', \n",
    "    'pear456', \n",
    "    '2orange3', \n",
    "    'banana45',\n",
    "    '78mango3', \n",
    "    ''\n",
    "]\n",
    "\n",
    "regex = '\\d+$'\n",
    "for string in strings:\n",
    "    result = re.search(regex, string)\n",
    "    if result:\n",
    "        print(\"The following string is a match:\", string)\n",
    "        print(result, '\\n')"
   ]
  },
  {
   "cell_type": "markdown",
   "id": "15868862",
   "metadata": {},
   "source": [
    "We use `$` to show that the pattern ENDS with `\\d+`, 1 digit or more.\n",
    "\n",
    "What about the strings that start AND end with a number?\n"
   ]
  },
  {
   "cell_type": "code",
   "execution_count": 37,
   "id": "9ef0a1f1",
   "metadata": {},
   "outputs": [
    {
     "name": "stdout",
     "output_type": "stream",
     "text": [
      "The following string is a match: 2orange3\n",
      "<re.Match object; span=(0, 8), match='2orange3'> \n",
      "\n",
      "The following string is a match: 78mango3\n",
      "<re.Match object; span=(0, 8), match='78mango3'> \n",
      "\n"
     ]
    }
   ],
   "source": [
    "strings = [\n",
    "    '123apple', \n",
    "    'pear456', \n",
    "    '2orange3', \n",
    "    'banana45',\n",
    "    '78mango3', \n",
    "    ''\n",
    "]\n",
    "\n",
    "regex = '^\\d+\\w*\\d+$'\n",
    "for string in strings:\n",
    "    result = re.search(regex, string)\n",
    "    if result:\n",
    "        print(\"The following string is a match:\", string)\n",
    "        print(result, '\\n')"
   ]
  },
  {
   "cell_type": "markdown",
   "id": "dae26142",
   "metadata": {},
   "source": [
    "Here, we use both methods above, but we have one additional regex in the middle. Strings that start and end with digits can have any number of characters in between, so we must account for those too by using `\\w*`, which would specify 0 or more characters. Therefore, we define the combined regex `‘^\\d+\\w*\\d+‘`. So now we have covered all cases!\n",
    "\n",
    "4. Now, let us define a list of names. We want to find all names that have a first and last name."
   ]
  },
  {
   "cell_type": "code",
   "execution_count": 70,
   "id": "d85e2045",
   "metadata": {},
   "outputs": [],
   "source": [
    "names = [\n",
    "    'Michael Scott',\n",
    "    'Helena Bonham Carter',\n",
    "    'MathematicalWizard',\n",
    "    'Ada Lovelace',\n",
    "    'Eddie Vedder',\n",
    "    'Jigglypuff',\n",
    "    'Anakin',\n",
    "    'Edna Mode',\n",
    "    'Señor Don Gato',\n",
    "    'Daisy',\n",
    "    'Ted Mosby',\n",
    "]"
   ]
  },
  {
   "cell_type": "code",
   "execution_count": 71,
   "id": "521550a0",
   "metadata": {},
   "outputs": [
    {
     "name": "stdout",
     "output_type": "stream",
     "text": [
      "Michael Scott\n",
      "Ada Lovelace\n",
      "Eddie Vedder\n",
      "Edna Mode\n",
      "Ted Mosby\n"
     ]
    }
   ],
   "source": [
    "regex = '^\\w+\\s+\\w+$'\n",
    "\n",
    "# using \\w+ will scan for any amount of characters\n",
    "# using \\s+ will scan for any amount of white spaces\n",
    "\n",
    "for name in names:\n",
    "    result = re.search(regex, name)\n",
    "    if result:\n",
    "        print(name)"
   ]
  },
  {
   "cell_type": "markdown",
   "id": "2db14820",
   "metadata": {},
   "source": [
    "5. Find all names that have a first, middle, and last name"
   ]
  },
  {
   "cell_type": "code",
   "execution_count": 72,
   "id": "6f82bf27",
   "metadata": {},
   "outputs": [
    {
     "name": "stdout",
     "output_type": "stream",
     "text": [
      "Helena Bonham Carter\n",
      "Señor Don Gato\n"
     ]
    }
   ],
   "source": [
    "regex = '^\\w+\\s+\\w+\\s+\\w+$'\n",
    "\n",
    "for name in names:\n",
    "    result = re.search(regex, name)\n",
    "    if result:\n",
    "        print(name)"
   ]
  },
  {
   "cell_type": "markdown",
   "id": "d42a97db",
   "metadata": {},
   "source": [
    "6. Find all names that have 2 consecutive vowels in any part of the name"
   ]
  },
  {
   "cell_type": "code",
   "execution_count": 73,
   "id": "81ca19b6",
   "metadata": {
    "scrolled": true
   },
   "outputs": [
    {
     "name": "stdout",
     "output_type": "stream",
     "text": [
      "Michael Scott\n",
      "Eddie Vedder\n",
      "Daisy\n"
     ]
    }
   ],
   "source": [
    "regex = '[aeiou]{2}'\n",
    "\n",
    "for name in names:\n",
    "    result = re.search(regex, name)\n",
    "    if result:\n",
    "        print(name)"
   ]
  },
  {
   "cell_type": "markdown",
   "id": "816aefeb",
   "metadata": {},
   "source": [
    "7. Find all names that begin with 4 consecutive word characters followed by a whitespace"
   ]
  },
  {
   "cell_type": "code",
   "execution_count": 74,
   "id": "883de960",
   "metadata": {},
   "outputs": [
    {
     "name": "stdout",
     "output_type": "stream",
     "text": [
      "Edna Mode\n"
     ]
    }
   ],
   "source": [
    "regex = '^\\w\\w\\w\\w\\s'\n",
    "\n",
    "for name in names:\n",
    "    result = re.search(regex, name)\n",
    "    if result:\n",
    "        print(name)"
   ]
  },
  {
   "cell_type": "markdown",
   "id": "8470afef",
   "metadata": {},
   "source": [
    "8. Find all names that are exactly 5 word characters"
   ]
  },
  {
   "cell_type": "code",
   "execution_count": 75,
   "id": "bf7a4d9b",
   "metadata": {},
   "outputs": [
    {
     "name": "stdout",
     "output_type": "stream",
     "text": [
      "Daisy\n"
     ]
    }
   ],
   "source": [
    "regex = '^\\w{5}$'\n",
    "\n",
    "for name in names:\n",
    "    result = re.search(regex, name)\n",
    "    if result:\n",
    "        print(name)"
   ]
  },
  {
   "cell_type": "markdown",
   "id": "36c9d04a",
   "metadata": {},
   "source": [
    "## The findall() and sub() methods\n",
    "\n",
    "The `findall()` method takes 2 required arguments: a regex pattern and a string, in addition to the optional `flags`. It will search for ALL instances of a pattern in a string. \n",
    "\n",
    "The `sub()` method will search a string for a regex pattern and replace all (or a defined count of) substrings that match the pattern with a new specified replacement string, called `repl`. \n",
    "\n",
    "Let’s try some more examples of `findall()` and try out the `sub()` method! We will use the same string as before, `string`=`“I23like45to2drink6coffee90every8morning!”`.\n",
    "\n",
    "1. Suppose we wanted to find all instances of a number (1 or more digits) and print them. We can use `findall()` with `\\d+`\n"
   ]
  },
  {
   "cell_type": "code",
   "execution_count": 44,
   "id": "d8c3a3d4",
   "metadata": {},
   "outputs": [
    {
     "name": "stdout",
     "output_type": "stream",
     "text": [
      "['23', '45', '2', '6', '90', '8']\n"
     ]
    }
   ],
   "source": [
    "string = 'I23like45to2drink6coffee90every8morning!'\n",
    "\n",
    "regex = '\\d+'\n",
    "result = re.findall(pattern=regex, string=string)\n",
    "print(result)"
   ]
  },
  {
   "cell_type": "markdown",
   "id": "a20a5567",
   "metadata": {},
   "source": [
    "Now, if we want to replace those numerical characters with a single white space, we can use the `sub()` method to do so! Here we must define an argument called `repl` that defines the string with which we would like to replace the numbers in the original string. "
   ]
  },
  {
   "cell_type": "code",
   "execution_count": 45,
   "id": "e384b1e9",
   "metadata": {},
   "outputs": [
    {
     "name": "stdout",
     "output_type": "stream",
     "text": [
      "I like to drink coffee every morning!\n"
     ]
    }
   ],
   "source": [
    "string = 'I23like45to2drink6coffee90every8morning!'\n",
    " \n",
    "regex = '\\d+'\n",
    "replacement = ' '\n",
    "result = re.sub(pattern=regex, repl=replacement, string=string)\n",
    "print(result)"
   ]
  },
  {
   "cell_type": "markdown",
   "id": "a94d0a45",
   "metadata": {},
   "source": [
    "This will return the result of substituting those numbers with a whitespace (which forms a sentence!)\n",
    "\n",
    "Notice that both methods have a similar operation at first. Both of them search for all instances of a pattern, but it is the `sub()` method that will replace those instances with a new string. `findall()` will return a list of all of the matching instances, and `sub()` will return the new string after replacement.\n",
    "\n",
    "2. `sub()` has an additional argument, count, that may be of use depending on the problem we have. If we want to replace only the first 3 instances of numbers in the string above, we can define count = 3. \n"
   ]
  },
  {
   "cell_type": "code",
   "execution_count": 46,
   "id": "6fac2468",
   "metadata": {},
   "outputs": [
    {
     "name": "stdout",
     "output_type": "stream",
     "text": [
      "I like to drink6coffee90every8morning!\n"
     ]
    }
   ],
   "source": [
    "string = 'I23like45to2drink6coffee90every8morning!'\n",
    "\n",
    "regex = '\\d+'\n",
    "replacement = ' '\n",
    "count = 3\n",
    "result = re.sub(pattern=regex, repl=replacement, string=string, count=count)\n",
    "print(result)"
   ]
  },
  {
   "cell_type": "markdown",
   "id": "0cd52eed",
   "metadata": {},
   "source": [
    "Now, only the first 3 instances of a number are replaced with a single whitespace.\n",
    "\n",
    "3. We define a list of phone numbers in string format. We want to iterate through and find all valid phone numbers that are composed of exactly 10 digits."
   ]
  },
  {
   "cell_type": "code",
   "execution_count": 76,
   "id": "e8780234",
   "metadata": {},
   "outputs": [
    {
     "name": "stdout",
     "output_type": "stream",
     "text": [
      "['1234567890']\n",
      "['7134273948']\n",
      "['5123940057']\n",
      "['2139495047']\n",
      "['3452847390']\n"
     ]
    }
   ],
   "source": [
    "phone_numbers = [\n",
    "'1234567890', \n",
    "'7134273948',\n",
    "'5123940057',\n",
    "'713923840',\n",
    "'40583948',\n",
    "'80029394583',\n",
    "'2139495047',\n",
    "'3452847390',\n",
    "] \n",
    "\n",
    "\n",
    "regex = '^\\d{10}$'\n",
    "for num in phone_numbers:\n",
    "    result = re.findall(pattern=regex, string=num)\n",
    "    if result:\n",
    "        print(result)"
   ]
  },
  {
   "cell_type": "markdown",
   "id": "9a7eb1a1",
   "metadata": {},
   "source": [
    "Now suppose we have the same list of phone numbers above (except now they have a country code) and we want to find which ones are French numbers and have a valid number of 10 digits following the area code"
   ]
  },
  {
   "cell_type": "code",
   "execution_count": 48,
   "id": "d30ec263",
   "metadata": {},
   "outputs": [
    {
     "name": "stdout",
     "output_type": "stream",
     "text": [
      "['+33 7134273948']\n",
      "['+33 2148304938']\n"
     ]
    }
   ],
   "source": [
    "phone_numbers = [\n",
    "'+62 234567890', \n",
    "'+33 7134273948',\n",
    "'+1 5123940057',\n",
    "'713923840',\n",
    "'+34 40583948',\n",
    "'+61 029394583',\n",
    "'+2139495047',\n",
    "'+1 3452847390',\n",
    "'+1 153948273',\n",
    "'+33 2148304938'\n",
    "] \n",
    "\n",
    "\n",
    "regex = '^[+33]{3}\\s\\d{10}$'\n",
    "for num in phone_numbers:\n",
    "    result = re.findall(pattern=regex, string=num)\n",
    "    if result:\n",
    "        print(result)"
   ]
  },
  {
   "cell_type": "markdown",
   "id": "ca5fc382",
   "metadata": {},
   "source": [
    "We want to make sure the beginning of the number starts with `+33` and is followed by a whitespace. The `^` ensures we are working with the start of the string, `[+33]{3}` ensures that the code looks for all 3 characters, `\\s` searches for a whitespace, and `\\d{10}` searches for 10 consecutive digits. "
   ]
  }
 ],
 "metadata": {
  "kernelspec": {
   "display_name": "Python 3 (ipykernel)",
   "language": "python",
   "name": "python3"
  },
  "language_info": {
   "codemirror_mode": {
    "name": "ipython",
    "version": 3
   },
   "file_extension": ".py",
   "mimetype": "text/x-python",
   "name": "python",
   "nbconvert_exporter": "python",
   "pygments_lexer": "ipython3",
   "version": "3.11.7"
  }
 },
 "nbformat": 4,
 "nbformat_minor": 5
}
